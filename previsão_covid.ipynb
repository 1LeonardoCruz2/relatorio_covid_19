{
 "cells": [
  {
   "cell_type": "code",
   "execution_count": 1,
   "metadata": {},
   "outputs": [],
   "source": [
    "import pandas as pd\n",
    "import matplotlib.pyplot as plt\n",
    "import dash\n",
    "import dash_core_components as dcc\n",
    "import dash_bootstrap_components as dbc\n",
    "import plotly.express as px\n",
    "import plotly.graph_objects as go\n",
    "import json"
   ]
  },
  {
   "cell_type": "code",
   "execution_count": 2,
   "metadata": {},
   "outputs": [],
   "source": [
    "\n",
    "class analise():\n",
    "    def juntaDados(self,file):\n",
    "        self.dados_DF=pd.read_csv(file[0],sep=\";\",index_col=['data'],parse_dates=['data'])\n",
    "        for i in range(1,len(file)):\n",
    "            dado=pd.read_csv(file[i],sep=\";\",index_col=['data'],parse_dates=['data'])\n",
    "            self.dados_DF=pd.concat([dado,self.dados_DF])\n",
    "    \n",
    "        df_states=self.dados_DF[(~self.dados_DF[\"estado\"].isna()) & (self.dados_DF[\"codmun\"].isna())] #selecionando os dados dos estados\n",
    "        df_states.to_csv(\"df_states.csv\") # gerando um cvs com esses dados\n",
    "        df_brasil=self.dados_DF[self.dados_DF[\"regiao\"]==\"Brasil\"] #selecionando os dados so do brasil\n",
    "        df_brasil.to_csv(\"df_brasil.csv\")\n",
    "\n",
    "    def casosDia(self):\n",
    "        self.casosDia_df=self.dados_DF[['casosNovos']]\n",
    "        self.roll=self.casosDia_df.rolling(window=15)\n",
    "        self.rolling_mean=self.roll.mean()\n",
    "        self.rolling_mean=self.rolling_mean.fillna(0)\n",
    "        self.casosDia_df.plot(color='blue',figsize=(18,13),lw=0.1)\n",
    "        plt.title(\"casos novos diarios\")\n",
    "        self.rolling_mean.plot(linestyle=\"-.\",color='red',figsize=(18,13),lw=0.1)\n",
    "        plt.title('media movel dos casos diarios')\n",
    "        plt.show()\n",
    "\n",
    "    def mortesDia(self):\n",
    "        self.obitosDia_df=self.dados_DF[['obitosNovos']]\n",
    "        self.roll=self.obitosDia_df.rolling(window=15)\n",
    "        self.rolling_mean=self.roll.mean()\n",
    "        self.rolling_mean=self.rolling_mean.fillna(0)\n",
    "        self.obitosDia_df.plot(color='blue',figsize=(18,13),lw=0.1)\n",
    "        plt.title(\"obtos novos diarios\")\n",
    "        self.rolling_mean.plot(linestyle=\"-.\",color='red',figsize=(18,13),lw=0.1)\n",
    "        plt.title('media movel dos obitos diarios')\n",
    "        plt.show()\n",
    "\n",
    "    def sazonalidas(self, data):\n",
    "        for i in range(2020,2023,1):\n",
    "            data[(data.index.year>=i)&(data.index.year<=i+1)].diff().plot()   "
   ]
  },
  {
   "cell_type": "code",
   "execution_count": 3,
   "metadata": {},
   "outputs": [],
   "source": [
    "report=analise()\n",
    "\n",
    "report.juntaDados([\"HIST_PAINEL_COVIDBR_2020_Parte1_04mar2022.csv\",\"HIST_PAINEL_COVIDBR_2020_Parte2_04mar2022.csv\",\"HIST_PAINEL_COVIDBR_2021_Parte1_04mar2022.csv\",\n",
    "                    \"HIST_PAINEL_COVIDBR_2021_Parte2_04mar2022.csv\",\"HIST_PAINEL_COVIDBR_2022_Parte1_04mar2022.csv\"])"
   ]
  },
  {
   "cell_type": "code",
   "execution_count": null,
   "metadata": {},
   "outputs": [],
   "source": []
  },
  {
   "cell_type": "code",
   "execution_count": null,
   "metadata": {},
   "outputs": [],
   "source": [
    "report."
   ]
  },
  {
   "cell_type": "code",
   "execution_count": 7,
   "metadata": {},
   "outputs": [
    {
     "name": "stdout",
     "output_type": "stream",
     "text": [
      "Dash is running on http://127.0.0.1:8050/\n",
      "\n",
      "Dash is running on http://127.0.0.1:8050/\n",
      "\n",
      "Dash is running on http://127.0.0.1:8050/\n",
      "\n",
      " * Serving Flask app \"__main__\" (lazy loading)\n",
      " * Environment: production\n",
      "\u001b[31m   WARNING: This is a development server. Do not use it in a production deployment.\u001b[0m\n",
      "\u001b[2m   Use a production WSGI server instead.\u001b[0m\n",
      " * Debug mode: off\n"
     ]
    },
    {
     "name": "stderr",
     "output_type": "stream",
     "text": [
      " * Running on http://127.0.0.1:8050/ (Press CTRL+C to quit)\n",
      "127.0.0.1 - - [06/Mar/2022 01:44:08] \"GET / HTTP/1.1\" 200 -\n",
      "127.0.0.1 - - [06/Mar/2022 01:44:08] \"GET /_dash-dependencies HTTP/1.1\" 200 -\n",
      "127.0.0.1 - - [06/Mar/2022 01:44:08] \"GET /_favicon.ico?v=1.19.0 HTTP/1.1\" 200 -\n",
      "127.0.0.1 - - [06/Mar/2022 01:44:10] \"GET /_dash-layout HTTP/1.1\" 200 -\n"
     ]
    }
   ],
   "source": [
    "#o arquivo json mostra as latitudes e longitudes das fronteiras de cada estado do brasil\n",
    "brasil_states=json.load(open(\"geojson/brasil_geo.json\",\"r\"))\n",
    "brasil_states[\"features\"][0].keys()\n",
    "\n",
    "df_states = pd.read_csv(\"df_states.csv\")\n",
    "\n",
    "df_states_ = df_states[df_states[\"data\"] == \"2020-05-13\"]\n",
    "select_columns = {\"casosAcumulado\": \"Casos Acumulados\", \n",
    "                \"casosNovos\": \"Novos Casos\", \n",
    "                \"obitosAcumulado\": \"Óbitos Totais\",\n",
    "                \"obitosNovos\": \"Óbitos por dia\",\n",
    "                \"graficos\":\"report.\"}\n",
    "\n",
    "\n",
    "app = dash.Dash(__name__, external_stylesheets=[dbc.themes.SLATE])\n",
    "\n",
    "fig = px.choropleth_mapbox(df_states_, locations=\"estado\",\n",
    "    geojson=brasil_states, center={\"lat\": -16.95, \"lon\": -47.78},\n",
    "    zoom=4, color=\"casosNovos\", color_continuous_scale=\"Redor\", opacity=0.4,\n",
    "    hover_data={\"casosAcumulado\": True, \"casosNovos\": True, \"obitosNovos\": True, \"estado\": True}\n",
    "    )\n",
    "fig.update_layout(\n",
    "                paper_bgcolor=\"#242424\",\n",
    "                mapbox_style=\"carto-darkmatter\",\n",
    "                autosize=True,\n",
    "                margin=go.layout.Margin(l=0, r=0, t=0, b=0),\n",
    "                showlegend=False,)\n",
    "df_data = df_states[df_states[\"estado\"] == \"RO\"]\n",
    "\n",
    "fig2 = go.Figure(layout={\"template\":\"plotly_dark\"})\n",
    "fig2.add_trace(go.Scatter(x=df_data[\"data\"], y=df_data[\"casosAcumulado\"]))\n",
    "fig2.update_layout(\n",
    "    paper_bgcolor=\"#242424\",\n",
    "    plot_bgcolor=\"#242424\",\n",
    "    autosize=True,\n",
    "    margin=dict(l=10, r=10, b=10, t=10),\n",
    "    )\n",
    "\n",
    "app.layout=dbc.Container(\n",
    "        dbc.Row([\n",
    "            dbc.Col([\n",
    "                dcc.Graph(id=\"croropleth-map\",figure=fig)\n",
    "            ])\n",
    "        ])\n",
    ")\n",
    "\n",
    "if __name__ == \"__main__\":\n",
    "    app.run_server(debug=False)"
   ]
  },
  {
   "cell_type": "code",
   "execution_count": null,
   "metadata": {},
   "outputs": [],
   "source": []
  }
 ],
 "metadata": {
  "interpreter": {
   "hash": "3c4af1a8098b58ef78319f3a9ce6fc3de52414c275dd256538b1abde2093e932"
  },
  "kernelspec": {
   "display_name": "Python 3.9.10 64-bit (windows store)",
   "language": "python",
   "name": "python3"
  },
  "language_info": {
   "codemirror_mode": {
    "name": "ipython",
    "version": 3
   },
   "file_extension": ".py",
   "mimetype": "text/x-python",
   "name": "python",
   "nbconvert_exporter": "python",
   "pygments_lexer": "ipython3",
   "version": "3.9.7"
  },
  "orig_nbformat": 4
 },
 "nbformat": 4,
 "nbformat_minor": 2
}
